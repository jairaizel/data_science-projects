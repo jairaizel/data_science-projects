{
  "metadata": {
    "kernelspec": {
      "language": "python",
      "display_name": "Python 3",
      "name": "python3"
    },
    "language_info": {
      "pygments_lexer": "ipython3",
      "nbconvert_exporter": "python",
      "version": "3.6.4",
      "file_extension": ".py",
      "codemirror_mode": {
        "name": "ipython",
        "version": 3
      },
      "name": "python",
      "mimetype": "text/x-python"
    },
    "colab": {
      "provenance": []
    }
  },
  "nbformat_minor": 0,
  "nbformat": 4,
  "cells": [
    {
      "cell_type": "code",
      "source": [
        "# Import Packages\n",
        "import matplotlib.pyplot as plt\n",
        "import numpy as np\n",
        "import pandas as pd\n",
        "import scipy.stats as stats\n",
        "import seaborn as sns\n",
        "from sklearn import linear_model\n",
        "from sklearn import naive_bayes\n",
        "from sklearn import neighbors\n",
        "from sklearn import svm\n",
        "from sklearn import tree\n",
        "from sklearn.feature_selection import SequentialFeatureSelector as sfs\n",
        "from sklearn.metrics import accuracy_score, confusion_matrix, f1_score\n",
        "from sklearn.model_selection import train_test_split\n",
        "from sklearn.model_selection import KFold\n",
        "from sklearn.model_selection import cross_validate\n",
        "import statsmodels.api as sm\n",
        "from statsmodels.stats.outliers_influence import variance_inflation_factor\n",
        "\n",
        "# Ignore Warnings\n",
        "import warnings\n",
        "warnings.filterwarnings('ignore')\n",
        "sns.set(style=\"whitegrid\")\n",
        "\n",
        "\n",
        "# Load Dataset\n",
        "wine_data = pd.read_csv('data.csv')\n",
        "wine_data.drop(['Id'], axis=1, inplace=True)\n",
        "wine_data.head()"
      ],
      "metadata": {
        "_uuid": "8f2839f25d086af736a60e9eeb907d3b93b6e0e5",
        "_cell_guid": "b1076dfc-b9ad-4769-8c92-a6c4dae69d19",
        "execution": {
          "iopub.status.busy": "2023-05-21T16:45:07.077642Z",
          "iopub.execute_input": "2023-05-21T16:45:07.078597Z",
          "iopub.status.idle": "2023-05-21T16:45:07.115067Z",
          "shell.execute_reply.started": "2023-05-21T16:45:07.078554Z",
          "shell.execute_reply": "2023-05-21T16:45:07.11384Z"
        },
        "trusted": true,
        "id": "QPo8DfT58-Dr"
      },
      "execution_count": null,
      "outputs": []
    },
    {
      "cell_type": "code",
      "source": [
        "wine_data.info()"
      ],
      "metadata": {
        "execution": {
          "iopub.status.busy": "2023-05-21T16:45:07.118309Z",
          "iopub.execute_input": "2023-05-21T16:45:07.119717Z",
          "iopub.status.idle": "2023-05-21T16:45:07.135813Z",
          "shell.execute_reply.started": "2023-05-21T16:45:07.119667Z",
          "shell.execute_reply": "2023-05-21T16:45:07.134486Z"
        },
        "trusted": true,
        "id": "YIQfHvt88-Du"
      },
      "execution_count": null,
      "outputs": []
    },
    {
      "cell_type": "code",
      "source": [
        "target_variable = 'quality'\n",
        "features = [col for col in wine_data.columns if col != target_variable]\n",
        "wine_data[features].describe()"
      ],
      "metadata": {
        "execution": {
          "iopub.status.busy": "2023-05-21T16:45:07.137397Z",
          "iopub.execute_input": "2023-05-21T16:45:07.137889Z",
          "iopub.status.idle": "2023-05-21T16:45:07.198953Z",
          "shell.execute_reply.started": "2023-05-21T16:45:07.137846Z",
          "shell.execute_reply": "2023-05-21T16:45:07.197716Z"
        },
        "trusted": true,
        "id": "ctOYWngt8-Dw"
      },
      "execution_count": null,
      "outputs": []
    },
    {
      "cell_type": "code",
      "source": [
        "def descriptive_categorical(dataframe, col_name, cmap=None, alpha_sort=False):\n",
        "    if cmap is None:\n",
        "        cmap='gist_earth_r'\n",
        "    data = pd.DataFrame(dataframe[col_name].value_counts(normalize=True).sort_values(ascending=False)*100).reset_index()\n",
        "    data.rename(columns={'index': col_name, col_name: '% observations'}, inplace=True)\n",
        "    if alpha_sort:\n",
        "        data.sort_values(by=col_name, inplace=True)\n",
        "    data['Cumulative %'] = data['% observations'].cumsum()\n",
        "    data_styled = data.style.background_gradient(cmap=cmap, subset=['% observations','Cumulative %'])\\\n",
        "        .format(formatter={'% observations': \"{:.2f}%\", 'Cumulative %':\"{:.2f}%\"}).hide_index()\n",
        "    return data_styled\n",
        "\n",
        "descriptive_categorical(dataframe=wine_data, col_name='quality', cmap='Greys', alpha_sort=True)"
      ],
      "metadata": {
        "execution": {
          "iopub.status.busy": "2023-05-21T16:45:07.20284Z",
          "iopub.execute_input": "2023-05-21T16:45:07.203265Z",
          "iopub.status.idle": "2023-05-21T16:45:07.231539Z",
          "shell.execute_reply.started": "2023-05-21T16:45:07.203216Z",
          "shell.execute_reply": "2023-05-21T16:45:07.230291Z"
        },
        "trusted": true,
        "id": "O6Mx2txl8-Dx"
      },
      "execution_count": null,
      "outputs": []
    },
    {
      "cell_type": "code",
      "source": [
        "fig, ax = plt.subplots(figsize=(8, 4))\n",
        "sns.histplot(data=wine_data, x='quality', stat='count', color='slategray')\n",
        "ax.grid(False)"
      ],
      "metadata": {
        "execution": {
          "iopub.status.busy": "2023-05-21T16:45:07.235534Z",
          "iopub.execute_input": "2023-05-21T16:45:07.236536Z",
          "iopub.status.idle": "2023-05-21T16:45:07.580624Z",
          "shell.execute_reply.started": "2023-05-21T16:45:07.236494Z",
          "shell.execute_reply": "2023-05-21T16:45:07.579454Z"
        },
        "trusted": true,
        "id": "TJrlfve_8-Dy"
      },
      "execution_count": null,
      "outputs": []
    },
    {
      "cell_type": "code",
      "source": [
        "wine_data['good_quality'] = np.where(wine_data['quality'] >= 6, 1, 0)\n",
        "fig, ax = plt.subplots(figsize=(8, 4))\n",
        "sns.histplot(data=wine_data, x='quality', hue='good_quality', stat='count', palette=['#929292', '#2ca02c'])\n",
        "ax.set_title('Wine Quality Score Distribution')\n",
        "ax.grid(False)"
      ],
      "metadata": {
        "execution": {
          "iopub.status.busy": "2023-05-21T16:45:07.582271Z",
          "iopub.execute_input": "2023-05-21T16:45:07.582642Z",
          "iopub.status.idle": "2023-05-21T16:45:08.080473Z",
          "shell.execute_reply.started": "2023-05-21T16:45:07.58261Z",
          "shell.execute_reply": "2023-05-21T16:45:08.079306Z"
        },
        "trusted": true,
        "id": "LF9dUV2n8-Dy"
      },
      "execution_count": null,
      "outputs": []
    },
    {
      "cell_type": "code",
      "source": [
        "descriptive_categorical(dataframe=wine_data, col_name='good_quality', cmap='Greens', alpha_sort=True)"
      ],
      "metadata": {
        "execution": {
          "iopub.status.busy": "2023-05-21T16:45:08.081673Z",
          "iopub.execute_input": "2023-05-21T16:45:08.081989Z",
          "iopub.status.idle": "2023-05-21T16:45:08.101582Z",
          "shell.execute_reply.started": "2023-05-21T16:45:08.081961Z",
          "shell.execute_reply": "2023-05-21T16:45:08.100284Z"
        },
        "trusted": true,
        "id": "NH3rD1Xa8-Dz"
      },
      "execution_count": null,
      "outputs": []
    },
    {
      "cell_type": "code",
      "source": [
        "fig, axs = plt.subplots(nrows=3, ncols=3, figsize=(12, 9), layout='constrained')\n",
        "for ax, field in zip(axs.flat, features):\n",
        "    if field is not None:\n",
        "        sns.histplot(data=wine_data, x=field, hue='good_quality', kde=True, palette=['#929292', '#2ca02c'], ax=ax)\n",
        "        ax.legend(['good wine', 'bad wine'])\n",
        "        ax.set_title(f'\\n{field} variable')\n",
        "        ax.grid(False)"
      ],
      "metadata": {
        "execution": {
          "iopub.status.busy": "2023-05-21T16:45:08.102982Z",
          "iopub.execute_input": "2023-05-21T16:45:08.103362Z",
          "iopub.status.idle": "2023-05-21T16:45:16.425611Z",
          "shell.execute_reply.started": "2023-05-21T16:45:08.10333Z",
          "shell.execute_reply": "2023-05-21T16:45:16.424473Z"
        },
        "trusted": true,
        "id": "0bKoSqT98-D0"
      },
      "execution_count": null,
      "outputs": []
    },
    {
      "cell_type": "code",
      "source": [
        "model_data = pd.DataFrame(wine_data)\n",
        "model_data.drop(labels='quality', axis=1, inplace=True)\n",
        "model_data.head()"
      ],
      "metadata": {
        "execution": {
          "iopub.status.busy": "2023-05-21T16:45:16.427373Z",
          "iopub.execute_input": "2023-05-21T16:45:16.427718Z",
          "iopub.status.idle": "2023-05-21T16:45:16.454425Z",
          "shell.execute_reply.started": "2023-05-21T16:45:16.427686Z",
          "shell.execute_reply": "2023-05-21T16:45:16.453446Z"
        },
        "trusted": true,
        "id": "zl-3cqPL8-D2"
      },
      "execution_count": null,
      "outputs": []
    },
    {
      "cell_type": "code",
      "source": [
        "target_variable = 'good_quality'\n",
        "full_model_data = pd.DataFrame(model_data)\n",
        "full_model_features = full_model_data.loc[:, full_model_data.columns != target_variable].columns\n",
        "full_X = sm.add_constant(full_model_data[full_model_features])\n",
        "full_y = full_model_data[target_variable]\n",
        "full_model = sm.GLM(full_y, full_X, family=sm.families.Binomial()).fit()\n",
        "print(full_model.summary())"
      ],
      "metadata": {
        "execution": {
          "iopub.status.busy": "2023-05-21T16:45:16.455952Z",
          "iopub.execute_input": "2023-05-21T16:45:16.456767Z",
          "iopub.status.idle": "2023-05-21T16:45:16.497692Z",
          "shell.execute_reply.started": "2023-05-21T16:45:16.456732Z",
          "shell.execute_reply": "2023-05-21T16:45:16.495586Z"
        },
        "trusted": true,
        "id": "VfNgHxZy8-D3"
      },
      "execution_count": null,
      "outputs": []
    },
    {
      "cell_type": "code",
      "source": [
        "def get_outliers(model, conditions=None):\n",
        "    \"\"\"\n",
        "    model: statsmodels.api model\n",
        "    returns: dataframe of outliers based on cook's distance threshold (4/n) and >= 3 standard deviations \n",
        "    of the standardized residuals.\n",
        "    \"\"\"\n",
        "    \n",
        "    summary_df = model.get_influence().summary_frame()\n",
        "    results_df = summary_df[['cooks_d']]\n",
        "    results_df['cooks_threshold'] = (4 / model.nobs)\n",
        "    results_df['std_residual'] = stats.zscore(model.resid_pearson)\n",
        "    results_df['std_residual'] = np.abs(results_df['std_residual'])\n",
        "    results_df['std_threshold'] = 3\n",
        "    choices = ['outlier']\n",
        "    conditions = [(results_df['cooks_d'] > (4 / model.nobs)) & (results_df['std_residual'] > 3)]\n",
        "    results_df['outlier'] = np.select(conditions, choices, default='not outlier')\n",
        "    return results_df\n",
        "\n",
        "distances = get_outliers(full_model)\n",
        "outliers = pd.DataFrame(distances[distances['outlier']=='outlier'])\n",
        "outliers.sort_values('cooks_d', ascending=False, inplace=True)\n",
        "outliers.head()"
      ],
      "metadata": {
        "execution": {
          "iopub.status.busy": "2023-05-21T16:45:16.50002Z",
          "iopub.execute_input": "2023-05-21T16:45:16.500975Z",
          "iopub.status.idle": "2023-05-21T16:45:16.568602Z",
          "shell.execute_reply.started": "2023-05-21T16:45:16.500908Z",
          "shell.execute_reply": "2023-05-21T16:45:16.567316Z"
        },
        "trusted": true,
        "id": "B1nGuomA8-D4"
      },
      "execution_count": null,
      "outputs": []
    },
    {
      "cell_type": "code",
      "source": [
        "results_df = get_outliers(full_model)\n",
        "fig, ax = plt.subplots(ncols=2, nrows=1, figsize=(12, 4))\n",
        "sns.histplot(data=results_df, x='std_residual', hue='outlier', palette=['#1E88E5', '#D81B60'], bins='auto', ax=ax[0], kde=True)\n",
        "ax[0].set_xlabel('Residual Standard Deviation')\n",
        "ax[0].grid(False)\n",
        "sns.histplot(data=results_df, x='cooks_d', hue='outlier', palette=['#1E88E5', '#D81B60'], bins='auto', ax=ax[1], kde=True)\n",
        "ax[1].set_xlabel('Residual Cooks Distance')\n",
        "ax[1].grid(False)\n",
        "fig.suptitle('Full Model Residuals')\n",
        "plt.show()"
      ],
      "metadata": {
        "execution": {
          "iopub.status.busy": "2023-05-21T16:45:16.570283Z",
          "iopub.execute_input": "2023-05-21T16:45:16.571612Z",
          "iopub.status.idle": "2023-05-21T16:45:19.707735Z",
          "shell.execute_reply.started": "2023-05-21T16:45:16.571567Z",
          "shell.execute_reply": "2023-05-21T16:45:19.706483Z"
        },
        "trusted": true,
        "id": "pPybLEH58-D4"
      },
      "execution_count": null,
      "outputs": []
    },
    {
      "cell_type": "code",
      "source": [
        "data_no_outliers = pd.DataFrame(model_data)\n",
        "data_no_outliers.drop(labels=outliers.index, axis=0, inplace=True)\n",
        "target_variable = 'good_quality'\n",
        "full_model_features = data_no_outliers.loc[:, data_no_outliers.columns != target_variable].columns\n",
        "full_X = sm.add_constant(data_no_outliers[full_model_features])\n",
        "full_y = data_no_outliers[target_variable]\n",
        "full_model_no_outliers = sm.GLM(full_y, full_X, family=sm.families.Binomial()).fit()\n",
        "print(full_model_no_outliers.summary())"
      ],
      "metadata": {
        "execution": {
          "iopub.status.busy": "2023-05-21T16:45:19.70935Z",
          "iopub.execute_input": "2023-05-21T16:45:19.709782Z",
          "iopub.status.idle": "2023-05-21T16:45:19.766814Z",
          "shell.execute_reply.started": "2023-05-21T16:45:19.709739Z",
          "shell.execute_reply": "2023-05-21T16:45:19.765297Z"
        },
        "trusted": true,
        "id": "xzEJdiAt8-D5"
      },
      "execution_count": null,
      "outputs": []
    },
    {
      "cell_type": "code",
      "source": [
        "fig, axs = plt.subplots(nrows=3, ncols=3, figsize=(12, 9), layout='tight')\n",
        "for ax, field in zip(axs.flat, features):\n",
        "    if field is not None:\n",
        "        new_df = pd.DataFrame(wine_data)\n",
        "        X = new_df[field]\n",
        "        y = new_df[target_variable]\n",
        "        logit_results = sm.GLM(y, X, family=sm.families.Binomial()).fit()\n",
        "        predicted = logit_results.predict(X)\n",
        "        log_odds = np.log(predicted / (1 - predicted))\n",
        "        a, b = np.polyfit(wine_data[field], log_odds, 1)\n",
        "        ax.scatter(x=wine_data[field], y=log_odds, color='cornflowerblue', label='observations')\n",
        "        ax.plot(wine_data[field], a*wine_data[field]+b, color='maroon', label='line of best fit')     \n",
        "        ax.set_title(f'\\n{field} variable')\n",
        "        ax.set_ylabel('Log Odds')\n",
        "        ax.legend()\n",
        "        ax.grid(False)\n",
        "plt.show()"
      ],
      "metadata": {
        "execution": {
          "iopub.status.busy": "2023-05-21T16:45:19.778033Z",
          "iopub.execute_input": "2023-05-21T16:45:19.778737Z",
          "iopub.status.idle": "2023-05-21T16:45:23.047014Z",
          "shell.execute_reply.started": "2023-05-21T16:45:19.7787Z",
          "shell.execute_reply": "2023-05-21T16:45:23.04585Z"
        },
        "trusted": true,
        "id": "8b44ZTBl8-D6"
      },
      "execution_count": null,
      "outputs": []
    },
    {
      "cell_type": "code",
      "source": [
        "def get_model_vif(X_variables_as_df):\n",
        "    vif_data = pd.DataFrame()\n",
        "    vif_data[\"feature\"] = X_variables_as_df.columns\n",
        "    vif_data[\"VIF\"] = [variance_inflation_factor(X_variables_as_df.values, i) for i in range(len(X_variables_as_df.columns))]\n",
        "    return vif_data.sort_values(by='VIF', ascending=False)\n",
        "\n",
        "\n",
        "full_model_vif = get_model_vif(full_model_data[full_model_features])\n",
        "full_model_vif"
      ],
      "metadata": {
        "execution": {
          "iopub.status.busy": "2023-05-21T16:45:23.048529Z",
          "iopub.execute_input": "2023-05-21T16:45:23.049248Z",
          "iopub.status.idle": "2023-05-21T16:45:23.15511Z",
          "shell.execute_reply.started": "2023-05-21T16:45:23.049196Z",
          "shell.execute_reply": "2023-05-21T16:45:23.153514Z"
        },
        "trusted": true,
        "id": "GPXhFYCN8-D6"
      },
      "execution_count": null,
      "outputs": []
    },
    {
      "cell_type": "code",
      "source": [
        "def correlation_matrix(X_variables_as_df, figsize=(10,8), cmap='Blues', annot=True):\n",
        "    fig, ax = plt.subplots(figsize=figsize)\n",
        "    sns.heatmap(X_variables_as_df.corr(), cmap=cmap, ax=ax, annot=annot)\n",
        "    ax.set_title('Correlation Matrix')\n",
        "    plt.show()\n",
        "    \n",
        "correlation_matrix(full_model_data[full_model_features], figsize=(10,8), cmap='Blues', annot=True)"
      ],
      "metadata": {
        "execution": {
          "iopub.status.busy": "2023-05-21T16:45:23.157727Z",
          "iopub.execute_input": "2023-05-21T16:45:23.158314Z",
          "iopub.status.idle": "2023-05-21T16:45:24.076086Z",
          "shell.execute_reply.started": "2023-05-21T16:45:23.15826Z",
          "shell.execute_reply": "2023-05-21T16:45:24.074985Z"
        },
        "trusted": true,
        "id": "uHmmXSnC8-D7"
      },
      "execution_count": null,
      "outputs": []
    },
    {
      "cell_type": "code",
      "source": [
        "print(full_model.summary())"
      ],
      "metadata": {
        "execution": {
          "iopub.status.busy": "2023-05-21T16:45:24.077751Z",
          "iopub.execute_input": "2023-05-21T16:45:24.078403Z",
          "iopub.status.idle": "2023-05-21T16:45:24.092711Z",
          "shell.execute_reply.started": "2023-05-21T16:45:24.078369Z",
          "shell.execute_reply": "2023-05-21T16:45:24.091563Z"
        },
        "trusted": true,
        "id": "M14lVjsT8-D8"
      },
      "execution_count": null,
      "outputs": []
    },
    {
      "cell_type": "code",
      "source": [
        "model = linear_model.LogisticRegression(fit_intercept=True)\n",
        "X_train, X_test, y_train, y_test = train_test_split(full_model_data[full_model_features], full_model_data[target_variable],\n",
        "                                                    test_size=0.2, random_state=42)\n",
        "model.fit(X_train, y_train)\n",
        "pred = model.predict(X_test)\n",
        "score = np.round(accuracy_score(y_test, pred), 2)\n",
        "cm = confusion_matrix(y_test, model.predict(X_test))\n",
        "sns.heatmap(cm, annot=True, fmt='d', xticklabels=['good quality', 'bad quality'], yticklabels=['good quality', 'bad quality'], cmap=plt.cm.get_cmap('cividis').reversed())\n",
        "plt.title('Full Model Logistic Regression' + ' Accuracy: ' + str(score*100) + '%')\n",
        "plt.xlabel('Predicted Outcome')\n",
        "plt.ylabel('Actual Outcome')\n",
        "plt.show()"
      ],
      "metadata": {
        "execution": {
          "iopub.status.busy": "2023-05-21T16:45:24.094565Z",
          "iopub.execute_input": "2023-05-21T16:45:24.095335Z",
          "iopub.status.idle": "2023-05-21T16:45:24.582422Z",
          "shell.execute_reply.started": "2023-05-21T16:45:24.095299Z",
          "shell.execute_reply": "2023-05-21T16:45:24.581068Z"
        },
        "trusted": true,
        "id": "P9WFbwhw8-D8"
      },
      "execution_count": null,
      "outputs": []
    },
    {
      "cell_type": "code",
      "source": [
        "results_df = pd.DataFrame(columns=['Model Name', 'Model Type', 'Mean Training Accuracy', 'Mean Validation Accuracy'])\n",
        "\n",
        "def plot_k_fold_validation(algo, results_df, model_name, model_type, X, y, palette=None, folds=5):\n",
        "    if palette is None:\n",
        "        palette= ['#1f77b4', '#aec7e8']\n",
        "    plot_title = model_name + ' ' + model_type + ': ' + str(folds) + '-Fold Validation'\n",
        "    validation = cross_validate(estimator=algo.fit(X, y), X=X, y=y, cv=folds, scoring=['accuracy', 'precision', 'recall', 'f1'], return_train_score=True)\n",
        "    train_accuracy = np.round(np.mean(validation['train_accuracy'])*100,2)\n",
        "    test_accuracy = np.round(np.mean(validation['test_accuracy'])*100,2)\n",
        "    print('Mean Training Accuracy score: ', str(train_accuracy))\n",
        "    print('Mean Testing Accuracy score: ', str(test_accuracy))\n",
        "    fig, ax = plt.subplots(figsize=(10, 6))\n",
        "    labels = labels = ['Fold ' + str(i+1) for i in range(len(validation['train_accuracy']))]\n",
        "    x = np.arange(len(labels))\n",
        "    ax.set_ylim(0.25, 1)\n",
        "    for i, j in enumerate(validation['train_accuracy']):\n",
        "        ax.text(x[i] - 0.3, j + 0.02, str(np.round(j, 2)), color=palette[0], fontweight='bold')\n",
        "    for i, j in enumerate(validation['test_accuracy']):\n",
        "        ax.text(x[i] + 0.1, j + 0.02, str(np.round(j, 2)), color=palette[1], fontweight='bold')\n",
        "    ax.bar(x - 0.2, validation['train_accuracy'], 0.4, color=palette[0], label='Training')\n",
        "    ax.bar(x + 0.2, validation['test_accuracy'], 0.4, color=palette[1], label='Testing')\n",
        "    ax.set_title(plot_title, fontsize=16)\n",
        "    ax.set_xticks(x, labels)\n",
        "    ax.set_xlabel(model_name + ' ' + model_type, fontsize=14)\n",
        "    ax.set_ylabel('Accuracy', fontsize=14)\n",
        "    ax.legend()\n",
        "    ax.grid(False)\n",
        "    plt.show()\n",
        "    results_df.loc[len(results_df.index)] = [model_type, model_name, train_accuracy, test_accuracy]\n",
        "    \n",
        "    \n",
        "plot_k_fold_validation(linear_model.LogisticRegression(fit_intercept=True), results_df, 'Full Model', \n",
        "                       'Logistic Regression', full_model_data[full_model_features], full_model_data[target_variable], \n",
        "                       palette=['#d62728', '#ff9896'], folds=5)"
      ],
      "metadata": {
        "execution": {
          "iopub.status.busy": "2023-05-21T16:45:24.584421Z",
          "iopub.execute_input": "2023-05-21T16:45:24.58556Z",
          "iopub.status.idle": "2023-05-21T16:45:25.526412Z",
          "shell.execute_reply.started": "2023-05-21T16:45:24.585488Z",
          "shell.execute_reply": "2023-05-21T16:45:25.525249Z"
        },
        "trusted": true,
        "id": "hIbYKq158-D9"
      },
      "execution_count": null,
      "outputs": []
    },
    {
      "cell_type": "code",
      "source": [
        "full_model_vif"
      ],
      "metadata": {
        "execution": {
          "iopub.status.busy": "2023-05-21T16:45:25.527933Z",
          "iopub.execute_input": "2023-05-21T16:45:25.52912Z",
          "iopub.status.idle": "2023-05-21T16:45:25.542062Z",
          "shell.execute_reply.started": "2023-05-21T16:45:25.52907Z",
          "shell.execute_reply": "2023-05-21T16:45:25.540949Z"
        },
        "trusted": true,
        "id": "akWfQghu8-D-"
      },
      "execution_count": null,
      "outputs": []
    },
    {
      "cell_type": "code",
      "source": [
        "reduced_model_features = list(full_model_features)\n",
        "reduced_model_features.remove('density')\n",
        "reduced_model_features.remove('pH')\n",
        "reduced_model_vif = get_model_vif(full_model_data[reduced_model_features])\n",
        "reduced_model_vif.head(10)"
      ],
      "metadata": {
        "execution": {
          "iopub.status.busy": "2023-05-21T16:45:25.543523Z",
          "iopub.execute_input": "2023-05-21T16:45:25.544731Z",
          "iopub.status.idle": "2023-05-21T16:45:25.579984Z",
          "shell.execute_reply.started": "2023-05-21T16:45:25.544685Z",
          "shell.execute_reply": "2023-05-21T16:45:25.578587Z"
        },
        "trusted": true,
        "id": "cmKauZog8-D-"
      },
      "execution_count": null,
      "outputs": []
    },
    {
      "cell_type": "code",
      "source": [
        "correlation_matrix(full_model_data[reduced_model_features])"
      ],
      "metadata": {
        "execution": {
          "iopub.status.busy": "2023-05-21T16:45:25.581411Z",
          "iopub.execute_input": "2023-05-21T16:45:25.581826Z",
          "iopub.status.idle": "2023-05-21T16:45:26.242649Z",
          "shell.execute_reply.started": "2023-05-21T16:45:25.581785Z",
          "shell.execute_reply": "2023-05-21T16:45:26.24137Z"
        },
        "trusted": true,
        "id": "172M10Ax8-Eq"
      },
      "execution_count": null,
      "outputs": []
    },
    {
      "cell_type": "code",
      "source": [
        "target_variable = 'good_quality'\n",
        "model_1_data = pd.DataFrame(model_data)\n",
        "model_1_features = list(reduced_model_features)\n",
        "model_1X = sm.add_constant(model_1_data[model_1_features])\n",
        "model_1y = model_1_data[target_variable]\n",
        "model_1 = sm.GLM(model_1y, model_1X, family=sm.families.Binomial()).fit()\n",
        "print(model_1.summary())"
      ],
      "metadata": {
        "execution": {
          "iopub.status.busy": "2023-05-21T16:45:26.244412Z",
          "iopub.execute_input": "2023-05-21T16:45:26.244808Z",
          "iopub.status.idle": "2023-05-21T16:45:26.298315Z",
          "shell.execute_reply.started": "2023-05-21T16:45:26.244776Z",
          "shell.execute_reply": "2023-05-21T16:45:26.296781Z"
        },
        "trusted": true,
        "id": "VbPcl-h28-Er"
      },
      "execution_count": null,
      "outputs": []
    },
    {
      "cell_type": "code",
      "source": [
        "plot_k_fold_validation(linear_model.LogisticRegression(fit_intercept=True), results_df, 'Reduced Model 1', \n",
        "                       'Logistic Regression', model_1_data[model_1_features], model_1_data[target_variable], \n",
        "                       palette=['#ff7f0e', '#ffbb78'], folds=5)"
      ],
      "metadata": {
        "execution": {
          "iopub.status.busy": "2023-05-21T16:45:26.300685Z",
          "iopub.execute_input": "2023-05-21T16:45:26.301683Z",
          "iopub.status.idle": "2023-05-21T16:45:27.024428Z",
          "shell.execute_reply.started": "2023-05-21T16:45:26.301626Z",
          "shell.execute_reply": "2023-05-21T16:45:27.023319Z"
        },
        "trusted": true,
        "id": "cmwTIQQD8-Er"
      },
      "execution_count": null,
      "outputs": []
    },
    {
      "cell_type": "code",
      "source": [
        "tols = [0.1, 0.00001, 0.000000000001, 0.0000000000000000000001, 0.0000000000000000000000000000000000000000001\n",
        "       ,0.0000000000000000000000000000000000000000000000000000000000000000000000000000000000001]\n",
        "model_2_features = None\n",
        "for i, tol in enumerate(tols):\n",
        "    selector = sfs(linear_model.LogisticRegression(fit_intercept=True), n_features_to_select='auto', tol=tol, scoring='accuracy')\n",
        "    results = selector.fit(full_model_data[full_model_features], full_model_data['good_quality'])\n",
        "    if i !=0:\n",
        "        model_features = selector.get_feature_names_out()\n",
        "        if model_features.all() != model_2_features.all():\n",
        "            model_2_features = model_features\n",
        "    model_2_features = selector.get_feature_names_out()\n",
        "print('Reduced Features: ', tol, model_2_features)"
      ],
      "metadata": {
        "execution": {
          "iopub.status.busy": "2023-05-21T16:48:27.037727Z",
          "iopub.execute_input": "2023-05-21T16:48:27.038168Z",
          "iopub.status.idle": "2023-05-21T16:48:39.116912Z",
          "shell.execute_reply.started": "2023-05-21T16:48:27.038131Z",
          "shell.execute_reply": "2023-05-21T16:48:39.1157Z"
        },
        "trusted": true,
        "id": "DlKEQCe68-Es"
      },
      "execution_count": null,
      "outputs": []
    },
    {
      "cell_type": "code",
      "source": [
        "model_2_data = pd.DataFrame(model_data)\n",
        "target_variable = 'good_quality'\n",
        "model_2X = sm.add_constant(model_2_data[model_2_features])\n",
        "model_2y = model_2_data[target_variable]\n",
        "model_2 = sm.GLM(model_2y, model_2X, family=sm.families.Binomial()).fit()\n",
        "print(model_2.summary())"
      ],
      "metadata": {
        "execution": {
          "iopub.status.busy": "2023-05-21T16:48:46.071392Z",
          "iopub.execute_input": "2023-05-21T16:48:46.071794Z",
          "iopub.status.idle": "2023-05-21T16:48:46.098507Z",
          "shell.execute_reply.started": "2023-05-21T16:48:46.071761Z",
          "shell.execute_reply": "2023-05-21T16:48:46.097302Z"
        },
        "trusted": true,
        "id": "5HbVVwAH8-Es"
      },
      "execution_count": null,
      "outputs": []
    },
    {
      "cell_type": "code",
      "source": [
        "plot_k_fold_validation(linear_model.LogisticRegression(fit_intercept=True), results_df, 'Reduced Model 2', \n",
        "                       'Logistic Regression', model_2_data[model_2_features], model_2_data[target_variable], \n",
        "                       palette=['#bcbd22', '#dbdb8d'], folds=5)"
      ],
      "metadata": {
        "execution": {
          "iopub.status.busy": "2023-05-21T16:48:48.223961Z",
          "iopub.execute_input": "2023-05-21T16:48:48.22444Z",
          "iopub.status.idle": "2023-05-21T16:48:48.762034Z",
          "shell.execute_reply.started": "2023-05-21T16:48:48.224386Z",
          "shell.execute_reply": "2023-05-21T16:48:48.760683Z"
        },
        "trusted": true,
        "id": "LeEngaqD8-Et"
      },
      "execution_count": null,
      "outputs": []
    },
    {
      "cell_type": "code",
      "source": [
        "print(model_1.summary())"
      ],
      "metadata": {
        "execution": {
          "iopub.status.busy": "2023-05-21T16:48:50.792684Z",
          "iopub.execute_input": "2023-05-21T16:48:50.793095Z",
          "iopub.status.idle": "2023-05-21T16:48:50.808167Z",
          "shell.execute_reply.started": "2023-05-21T16:48:50.793059Z",
          "shell.execute_reply": "2023-05-21T16:48:50.807088Z"
        },
        "trusted": true,
        "id": "sJGCpMY28-Eu"
      },
      "execution_count": null,
      "outputs": []
    },
    {
      "cell_type": "code",
      "source": [
        "model_log_data = pd.DataFrame(model_data)\n",
        "for feature in model_1_features:\n",
        "    model_log_data[f'{feature}:log_{feature}'] = model_log_data[feature].apply(lambda x: x * np.log(x))\n",
        "model_log_data.fillna(value=0, axis=1, inplace=True)\n",
        "\n",
        "log_X = sm.add_constant(model_log_data)\n",
        "for col in log_X.columns:\n",
        "    if ('log' not in col or col == target_variable) or ('pH' in col or 'density' in col):\n",
        "        log_X.drop(labels=col, axis=1, inplace=True)\n",
        "log_X = sm.add_constant(log_X)\n",
        "log_model = sm.GLM(model_log_data[target_variable], log_X, family=sm.families.Binomial()).fit()\n",
        "print(log_model.summary())"
      ],
      "metadata": {
        "execution": {
          "iopub.status.busy": "2023-05-21T16:48:56.638395Z",
          "iopub.execute_input": "2023-05-21T16:48:56.639454Z",
          "iopub.status.idle": "2023-05-21T16:48:56.741906Z",
          "shell.execute_reply.started": "2023-05-21T16:48:56.639413Z",
          "shell.execute_reply": "2023-05-21T16:48:56.737958Z"
        },
        "trusted": true,
        "id": "E4r3Veex8-Eu"
      },
      "execution_count": null,
      "outputs": []
    },
    {
      "cell_type": "code",
      "source": [
        "model_sq_data = pd.DataFrame(model_data)\n",
        "for feature in full_model_features:\n",
        "    model_sq_data[f'{feature}:sq_{feature}'] = model_sq_data[feature].apply(lambda x: x**2)\n",
        "model_sq_data.fillna(value=0, axis=1, inplace=True)\n",
        "\n",
        "sq_X = sm.add_constant(model_sq_data)\n",
        "for col in sq_X.columns:\n",
        "    if ('sq' not in col or col == target_variable) or ('pH' in col or 'density' in col):\n",
        "        sq_X.drop(labels=col, axis=1, inplace=True)\n",
        "sq_X = sm.add_constant(sq_X)\n",
        "sq_model = sm.GLM(model_sq_data[target_variable], sq_X, family=sm.families.Binomial()).fit()\n",
        "print(sq_model.summary())"
      ],
      "metadata": {
        "execution": {
          "iopub.status.busy": "2023-05-21T16:48:58.275913Z",
          "iopub.execute_input": "2023-05-21T16:48:58.276315Z",
          "iopub.status.idle": "2023-05-21T16:48:58.372749Z",
          "shell.execute_reply.started": "2023-05-21T16:48:58.276274Z",
          "shell.execute_reply": "2023-05-21T16:48:58.368883Z"
        },
        "trusted": true,
        "id": "wGk3CMef8-Ev"
      },
      "execution_count": null,
      "outputs": []
    },
    {
      "cell_type": "code",
      "source": [
        "model_reciprocal_data = pd.DataFrame(full_model_data)\n",
        "for feature in full_model_features:\n",
        "    model_reciprocal_data[f'{feature}:recip_{feature}'] = np.divide(1,  model_reciprocal_data[feature], where= model_reciprocal_data[feature]!=0)\n",
        "model_reciprocal_data.fillna(value=0, axis=1, inplace=True)\n",
        "\n",
        "recip_X = sm.add_constant(model_reciprocal_data)\n",
        "for col in recip_X.columns:\n",
        "    if ('recip' not in col or col == target_variable) or ('pH' in col or 'density' in col):\n",
        "        recip_X.drop(labels=col, axis=1, inplace=True)\n",
        "recip_X = sm.add_constant(recip_X)\n",
        "\n",
        "reciprocal_model = sm.GLM(model_reciprocal_data[target_variable], recip_X, family=sm.families.Binomial()).fit()\n",
        "print(reciprocal_model.summary())"
      ],
      "metadata": {
        "execution": {
          "iopub.status.busy": "2023-05-21T16:49:00.400165Z",
          "iopub.execute_input": "2023-05-21T16:49:00.400714Z",
          "iopub.status.idle": "2023-05-21T16:49:00.517835Z",
          "shell.execute_reply.started": "2023-05-21T16:49:00.400671Z",
          "shell.execute_reply": "2023-05-21T16:49:00.516608Z"
        },
        "trusted": true,
        "id": "2_WfohRK8-Ev"
      },
      "execution_count": null,
      "outputs": []
    },
    {
      "cell_type": "code",
      "source": [
        "model_3_data = pd.DataFrame(model_data)\n",
        "recip_columns = pd.DataFrame(model_reciprocal_data[['chlorides:recip_chlorides', 'free sulfur dioxide:recip_free sulfur dioxide', 'residual sugar:recip_residual sugar']])\n",
        "model_3_features = list(model_1_features)\n",
        "model_3_features.remove('residual sugar')\n",
        "model_3_features.remove('free sulfur dioxide')\n",
        "model_3_features.remove('chlorides')\n",
        "model_3X = pd.concat([model_3_data[model_3_features], recip_columns], axis=1)\n",
        "model_3X = sm.add_constant(model_3X)\n",
        "model_3y = model_3_data[target_variable]\n",
        "model_3 = sm.GLM(model_3y, model_3X, family=sm.families.Binomial()).fit()\n",
        "print(model_3.summary())"
      ],
      "metadata": {
        "execution": {
          "iopub.status.busy": "2023-05-21T16:49:01.870603Z",
          "iopub.execute_input": "2023-05-21T16:49:01.871029Z",
          "iopub.status.idle": "2023-05-21T16:49:01.925247Z",
          "shell.execute_reply.started": "2023-05-21T16:49:01.870994Z",
          "shell.execute_reply": "2023-05-21T16:49:01.923738Z"
        },
        "trusted": true,
        "id": "cgy13m7W8-Ew"
      },
      "execution_count": null,
      "outputs": []
    },
    {
      "cell_type": "code",
      "source": [
        "plot_k_fold_validation(linear_model.LogisticRegression(fit_intercept=True), results_df, 'Reduced Model 3', \n",
        "                       'Logistic Regression', model_3_data[model_3_features], model_3_data[target_variable], \n",
        "                       palette=['#2ca02c', '#98df8a'], folds=5)\n",
        "plot_k_fold_validation(linear_model.LogisticRegression(fit_intercept=True), results_df, 'Reduced Model 2', \n",
        "                       'Logistic Regression', model_2_data[model_2_features], model_2_data[target_variable], \n",
        "                       palette=['#bcbd22', '#dbdb8d'], folds=5)\n",
        "plot_k_fold_validation(linear_model.LogisticRegression(fit_intercept=True), results_df, 'Reduced Model 1', \n",
        "                       'Logistic Regression', model_1_data[model_1_features], model_1_data[target_variable], \n",
        "                       palette=['#ff7f0e', '#ffbb78'], folds=5)"
      ],
      "metadata": {
        "execution": {
          "iopub.status.busy": "2023-05-21T16:49:04.396903Z",
          "iopub.execute_input": "2023-05-21T16:49:04.397369Z",
          "iopub.status.idle": "2023-05-21T16:49:06.244267Z",
          "shell.execute_reply.started": "2023-05-21T16:49:04.397325Z",
          "shell.execute_reply": "2023-05-21T16:49:06.243126Z"
        },
        "trusted": true,
        "id": "vBlmWPAr8-Ew"
      },
      "execution_count": null,
      "outputs": []
    },
    {
      "cell_type": "code",
      "source": [
        "plot_k_fold_validation(linear_model.RidgeClassifierCV(fit_intercept=True), results_df, 'Reduced Model 3', \n",
        "                       'Ridge Classifier', model_3_data[model_3_features], model_3_data[target_variable], \n",
        "                       palette=['#17becf', '#9edae5'], folds=5)"
      ],
      "metadata": {
        "execution": {
          "iopub.status.busy": "2023-05-21T16:49:10.908968Z",
          "iopub.execute_input": "2023-05-21T16:49:10.909457Z",
          "iopub.status.idle": "2023-05-21T16:49:11.408874Z",
          "shell.execute_reply.started": "2023-05-21T16:49:10.909418Z",
          "shell.execute_reply": "2023-05-21T16:49:11.407894Z"
        },
        "trusted": true,
        "id": "uXKEWoVT8-Ex"
      },
      "execution_count": null,
      "outputs": []
    },
    {
      "cell_type": "code",
      "source": [
        "plot_k_fold_validation(svm.LinearSVC(fit_intercept=True, random_state=24), results_df, 'Reduced Model 3', \n",
        "                       'SVM Classifier', model_3_data[model_3_features], model_3_data[target_variable], \n",
        "                       palette=['#1f77b4', '#aec7e8'], folds=5)"
      ],
      "metadata": {
        "execution": {
          "iopub.status.busy": "2023-05-21T16:49:16.261299Z",
          "iopub.execute_input": "2023-05-21T16:49:16.261755Z",
          "iopub.status.idle": "2023-05-21T16:49:17.04143Z",
          "shell.execute_reply.started": "2023-05-21T16:49:16.261721Z",
          "shell.execute_reply": "2023-05-21T16:49:17.040414Z"
        },
        "trusted": true,
        "id": "wXCVxazZ8-Ex"
      },
      "execution_count": null,
      "outputs": []
    },
    {
      "cell_type": "code",
      "source": [
        "plot_k_fold_validation(neighbors.KNeighborsClassifier(), results_df, 'Reduced Model 3', \n",
        "                       'KNN Classifier', model_3_data[model_3_features], model_3_data[target_variable], \n",
        "                       palette=['#9467bd', '#c5b0d5'], folds=5)"
      ],
      "metadata": {
        "execution": {
          "iopub.status.busy": "2023-05-21T16:49:18.403279Z",
          "iopub.execute_input": "2023-05-21T16:49:18.403969Z",
          "iopub.status.idle": "2023-05-21T16:49:19.09785Z",
          "shell.execute_reply.started": "2023-05-21T16:49:18.403923Z",
          "shell.execute_reply": "2023-05-21T16:49:19.096838Z"
        },
        "trusted": true,
        "id": "qK6mnrCU8-Ey"
      },
      "execution_count": null,
      "outputs": []
    },
    {
      "cell_type": "code",
      "source": [
        "plot_k_fold_validation(naive_bayes.GaussianNB(), results_df, 'Reduced Model 3', \n",
        "                       'Naive Bayes (Gaussian NB)', model_3_data[model_3_features], model_3_data[target_variable], \n",
        "                       palette=['#8c564b', '#c49c94'], folds=5)"
      ],
      "metadata": {
        "execution": {
          "iopub.status.busy": "2023-05-21T16:49:22.598525Z",
          "iopub.execute_input": "2023-05-21T16:49:22.598992Z",
          "iopub.status.idle": "2023-05-21T16:49:23.077023Z",
          "shell.execute_reply.started": "2023-05-21T16:49:22.598955Z",
          "shell.execute_reply": "2023-05-21T16:49:23.076035Z"
        },
        "trusted": true,
        "id": "2P7Ji8xC8-Ey"
      },
      "execution_count": null,
      "outputs": []
    },
    {
      "cell_type": "code",
      "source": [
        "depths = [1, 2, 3, 5, 10, 25]\n",
        "for depth in depths:\n",
        "    model_type = 'Decision Tree Classifier (Max Depth = '+str(depth)+')'\n",
        "    model_name = 'Reduced Model 3'\n",
        "    plot_k_fold_validation(tree.DecisionTreeClassifier(criterion='log_loss', max_depth=depth), results_df, model_name, \n",
        "                           model_type, model_3_data[model_3_features], model_3_data[target_variable], \n",
        "                           palette=['#7f7f7f', '#c7c7c7'], folds=5)"
      ],
      "metadata": {
        "execution": {
          "iopub.status.busy": "2023-05-21T16:49:39.849854Z",
          "iopub.execute_input": "2023-05-21T16:49:39.850279Z",
          "iopub.status.idle": "2023-05-21T16:49:42.776562Z",
          "shell.execute_reply.started": "2023-05-21T16:49:39.850225Z",
          "shell.execute_reply": "2023-05-21T16:49:42.775332Z"
        },
        "trusted": true,
        "id": "quB7pl8-8-Ey"
      },
      "execution_count": null,
      "outputs": []
    },
    {
      "cell_type": "code",
      "source": [
        "results_df.drop_duplicates(inplace=True)\n",
        "results_df.sort_values(by='Mean Validation Accuracy', ascending=False, inplace=True)\n",
        "results_df.style.bar(cmap='Spectral').format(formatter={'Mean Training Accuracy': \"{:.2f}%\", 'Mean Validation Accuracy':\"{:.2f}%\"})\\\n",
        "        .hide_index()"
      ],
      "metadata": {
        "execution": {
          "iopub.status.busy": "2023-05-21T16:49:45.229946Z",
          "iopub.execute_input": "2023-05-21T16:49:45.230351Z",
          "iopub.status.idle": "2023-05-21T16:49:45.254724Z",
          "shell.execute_reply.started": "2023-05-21T16:49:45.230318Z",
          "shell.execute_reply": "2023-05-21T16:49:45.253422Z"
        },
        "trusted": true,
        "id": "LPEZ5eZU8-Ez"
      },
      "execution_count": null,
      "outputs": []
    }
  ]
}